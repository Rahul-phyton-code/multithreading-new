{
  "nbformat": 4,
  "nbformat_minor": 0,
  "metadata": {
    "colab": {
      "provenance": [],
      "authorship_tag": "ABX9TyMcNdNudq63aCyB5cZzQzsl",
      "include_colab_link": true
    },
    "kernelspec": {
      "name": "python3",
      "display_name": "Python 3"
    },
    "language_info": {
      "name": "python"
    }
  },
  "cells": [
    {
      "cell_type": "markdown",
      "metadata": {
        "id": "view-in-github",
        "colab_type": "text"
      },
      "source": [
        "<a href=\"https://colab.research.google.com/github/Rahul-phyton-code/multithreading-new/blob/main/Multithreading.ipynb\" target=\"_parent\"><img src=\"https://colab.research.google.com/assets/colab-badge.svg\" alt=\"Open In Colab\"/></a>"
      ]
    },
    {
      "cell_type": "markdown",
      "source": [
        "1.)Multithreading is defined as the ability of a processor to execute multiple threads concurrently.The threading module is a high-level implementation of multithreading used to deploy an application in Python. "
      ],
      "metadata": {
        "id": "p0fjCWXmdUc5"
      }
    },
    {
      "cell_type": "markdown",
      "source": [
        "2.) The threading module exposes all the methods of the thread module and provides some additional methods\n",
        "\n",
        "a.) threading.activeCount() :Returns the number of thread objects that are active.\n",
        "b.) threading.currentThread() :Returns the number of thread objects in the caller's thread control.\n",
        "c.) threading.enumerate() :Returns a list of all thread objects that are currently active."
      ],
      "metadata": {
        "id": "u5uWWRNzePNy"
      }
    },
    {
      "cell_type": "markdown",
      "source": [
        "3.) \n",
        "a.)run():The run() method is the entry point for a thread.\n",
        "b.)start():The start() method starts a thread by calling the run method.\n",
        "c.)join([time]):The join() waits for threads to terminate.\n",
        "d.)isAlive():The isAlive() method checks whether a thread is still executing.\n",
        "e.)getName():The getName() method returns the name of a thread.\n",
        "f.)setName():The setName() method sets the name of a thread."
      ],
      "metadata": {
        "id": "J7uSdtGOe61x"
      }
    },
    {
      "cell_type": "markdown",
      "source": [
        "4.)"
      ],
      "metadata": {
        "id": "ilTzJcMKfb6D"
      }
    },
    {
      "cell_type": "code",
      "source": [
        "import threading\n",
        "def square(x):\n",
        "  print(\"This function gives square of list:\",(x**2))\n",
        "\n",
        "thred1 = [threading.Thread(target=square,args=(i,))for i in [1,2,3,4,5,6]]\n",
        "thred1  \n",
        "for t in thred1:\n",
        "  t.start()"
      ],
      "metadata": {
        "colab": {
          "base_uri": "https://localhost:8080/"
        },
        "id": "0P--wn6UfeGh",
        "outputId": "287cfa53-c7bb-43b1-9acf-454920e0630d"
      },
      "execution_count": 2,
      "outputs": [
        {
          "output_type": "stream",
          "name": "stdout",
          "text": [
            "This function gives square of list: 1\n",
            "This function gives square of list: 4\n",
            "This function gives square of list: 9\n",
            "This function gives square of list: 16\n",
            "This function gives square of list: 25\n",
            "This function gives square of list: 36\n"
          ]
        }
      ]
    },
    {
      "cell_type": "markdown",
      "source": [],
      "metadata": {
        "id": "rN71nnh4iL-0"
      }
    },
    {
      "cell_type": "code",
      "source": [
        "def cube(y):  \n",
        "  print(\"This function gives cube of list:\",(y**3))\n",
        "\n",
        "thred2 = [threading.Thread(target=cube,args=(i,))for i in [1,2,3,4,5,6]]\n",
        "thred2  \n",
        "for t in thred2:\n",
        "  t.start()"
      ],
      "metadata": {
        "colab": {
          "base_uri": "https://localhost:8080/"
        },
        "id": "My2b8To5hFxD",
        "outputId": "2bd40c02-f972-4609-e268-17f11bb71e08"
      },
      "execution_count": 4,
      "outputs": [
        {
          "output_type": "stream",
          "name": "stdout",
          "text": [
            "This function gives cube of list: 1\n",
            "This function gives cube of list: 8\n",
            "This function gives cube of list: 27\n",
            "This function gives cube of list: 64\n",
            "This function gives cube of list: 125\n",
            "This function gives cube of list: 216\n"
          ]
        }
      ]
    },
    {
      "cell_type": "markdown",
      "source": [
        "5.) Advantages of Multithreading:\n",
        "\n",
        "a.)Improved performance: Multithreading can help increase the overall performance of an application, especially on systems with multiple processors or cores. It allows multiple tasks to run concurrently, utilizing the available CPU resources more efficiently.\n",
        "\n",
        "b.)Responsiveness: In a single-threaded environment, if a long-running task blocks the main thread, the entire application becomes unresponsive. Multithreading can prevent this issue by running such tasks in separate threads, ensuring the application remains responsive.\n",
        "\n",
        "c.)Better resource utilization: Multithreading allows better utilization of system resources by keeping the CPU busy while waiting for I/O operations or other tasks to complete.\n",
        "\n",
        "d.)Simplified modeling: Some problems can be more naturally modeled using multiple threads. This makes the program easier to design, understand, and maintain.\n",
        "\n",
        "e.)Parallelism: Multithreading enables parallelism, which can lead to significant performance improvements in applications that can be divided into smaller, independent tasks.\n",
        "\n",
        "Disadvantages of Multithreading:\n",
        "\n",
        "a.)Complexity: Multithreading adds complexity to the program, making it more difficult to design, implement, and debug. Developers need to be aware of synchronization, deadlocks, race conditions, and other concurrency-related issues.\n",
        "\n",
        "b.)Synchronization overhead: To avoid data corruption and maintain consistency, developers must synchronize access to shared resources, which can result in additional overhead and reduced performance.\n",
        "\n",
        "c.)Context switching: Context switching between threads consumes CPU time and resources, which can lead to performance degradation if not managed efficiently.\n",
        "\n",
        "d.)Hard to predict behavior: Due to the concurrent nature of multithreading, the behavior of the program can be hard to predict and reproduce, especially when it comes to debugging.\n",
        "\n",
        "e.)Limited by hardware: The performance benefits of multithreading are limited by the number of available cores or processors in the system. In some cases, excessive use of threads can lead to performance degradation instead of improvement.\n"
      ],
      "metadata": {
        "id": "d84k_nCDiQAb"
      }
    },
    {
      "cell_type": "markdown",
      "source": [
        "6.) A race condition occurs when two threads use the same variable at a given time. Deadlock exists when two threads seek one lock simultaneously.  \n",
        "\n",
        "This situation will stop both threads from processing or executing the functions. In racing, two tasks compete with each other and try to complete a task before each other.\n",
        "\n",
        "In a deadlock, two processes are waiting and expecting the complementary process to complete the task.\n",
        "\n",
        "‍"
      ],
      "metadata": {
        "id": "FU1AQW-zjTrs"
      }
    }
  ]
}